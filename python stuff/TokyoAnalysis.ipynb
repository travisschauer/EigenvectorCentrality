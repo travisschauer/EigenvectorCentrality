{
 "cells": [
  {
   "cell_type": "code",
   "execution_count": 1,
   "id": "3fcc1652",
   "metadata": {
    "scrolled": false
   },
   "outputs": [],
   "source": [
    "import networkx as nx\n",
    "import numpy.linalg\n",
    "import matplotlib.pyplot as plt\n",
    "import numpy as np\n",
    "\n",
    "Graph = nx.empty_graph()\n",
    "with open(\"Tokyo.csv\", \"r\") as InputFile:\n",
    "    skipHeader = True\n",
    "    for Line in InputFile.readlines():\n",
    "        if skipHeader:\n",
    "            skipHeader = False\n",
    "            continue\n",
    "        Graph.add_edge(Line.split(\",\")[0],Line.split(\",\")[1])\n",
    "        \n",
    "#nx.draw(Graph)"
   ]
  },
  {
   "cell_type": "markdown",
   "id": "cbbd57d1",
   "metadata": {},
   "source": [
    "# Calculate Eigenvalues"
   ]
  },
  {
   "cell_type": "code",
   "execution_count": 2,
   "id": "e1931b52",
   "metadata": {
    "scrolled": true
   },
   "outputs": [
    {
     "name": "stdout",
     "output_type": "stream",
     "text": [
      "Largest Eigenvalue: 1.9949031806190134\n",
      "Smallest Eigenvalue: -7.216449660063518e-16\n",
      "216\n"
     ]
    },
    {
     "name": "stderr",
     "output_type": "stream",
     "text": [
      "<class 'networkx.utils.decorators.argmap'> compilation 8:4: FutureWarning: normalized_laplacian_matrix will return a scipy.sparse array instead of a matrix in Networkx 3.0.\n"
     ]
    },
    {
     "data": {
      "image/png": "[encoded data removed]",
      "text/plain": [
       "<Figure size 640x480 with 1 Axes>"
      ]
     },
     "metadata": {},
     "output_type": "display_data"
    }
   ],
   "source": [
    "L = nx.normalized_laplacian_matrix(Graph)\n",
    "e = numpy.linalg.eigvals(L.A)\n",
    "\n",
    "print(\"Largest Eigenvalue:\",max(e))\n",
    "print(\"Smallest Eigenvalue:\",min(e))\n",
    "print(len(e))\n",
    "#print(e)\n",
    "\n",
    "plt.hist(e,bins=100)\n",
    "plt.xlim(0,2)\n",
    "plt.show()"
   ]
  },
  {
   "cell_type": "markdown",
   "id": "a8208e25",
   "metadata": {},
   "source": [
    "# Calculate Diameter"
   ]
  },
  {
   "cell_type": "code",
   "execution_count": 6,
   "id": "317000ac",
   "metadata": {},
   "outputs": [
    {
     "data": {
      "text/plain": [
       "216"
      ]
     },
     "execution_count": 6,
     "metadata": {},
     "output_type": "execute_result"
    }
   ],
   "source": [
    "#distinct eigenvalues\n",
    "len(np.unique(e))"
   ]
  },
  {
   "cell_type": "code",
   "execution_count": 7,
   "id": "225845dd",
   "metadata": {},
   "outputs": [
    {
     "data": {
      "text/plain": [
       "32"
      ]
     },
     "execution_count": 7,
     "metadata": {},
     "output_type": "execute_result"
    }
   ],
   "source": [
    "#diameter\n",
    "nx.diameter(Graph)"
   ]
  },
  {
   "cell_type": "markdown",
   "id": "7e6e7b96",
   "metadata": {},
   "source": [
    "# Chromatic Number"
   ]
  },
  {
   "cell_type": "code",
   "execution_count": 8,
   "id": "2b8dda0e",
   "metadata": {},
   "outputs": [
    {
     "name": "stdout",
     "output_type": "stream",
     "text": [
      "{'35': 0, '64': 0, '3': 0, '8': 0, '10': 1, '105': 1, '1': 1, '25': 0, '27': 0, '39': 1, '47': 1, '65': 1, '4': 1, '5': 0, '6': 1, '7': 2, '11': 2, '15': 0, '28': 1, '29': 2, '31': 0, '33': 2, '38': 0, '100': 0, '45': 1, '48': 1, '51': 0, '52': 2, '67': 1, '80': 0, '110': 0, '114': 2, '116': 0, '117': 1, '122': 0, '124': 2, '134': 0, '150': 0, '151': 1, '155': 0, '162': 2, '182': 1, '136': 1, '22': 1, '23': 2, '32': 0, '90': 0, '120': 0, '200': 1, '0': 2, '2': 2, '9': 2, '12': 0, '13': 1, '14': 2, '16': 1, '17': 0, '19': 0, '20': 1, '21': 0, '24': 0, '26': 1, '30': 1, '34': 1, '36': 1, '37': 2, '40': 0, '41': 1, '43': 0, '44': 2, '46': 0, '49': 0, '50': 1, '53': 0, '54': 1, '55': 2, '56': 1, '57': 0, '58': 1, '60': 0, '61': 1, '62': 0, '63': 1, '66': 2, '68': 0, '69': 1, '70': 0, '71': 1, '72': 0, '73': 1, '74': 0, '75': 1, '76': 0, '77': 1, '79': 1, '81': 0, '82': 1, '83': 2, '84': 1, '85': 0, '86': 1, '87': 0, '88': 1, '89': 2, '91': 1, '93': 0, '94': 1, '95': 0, '96': 1, '97': 0, '98': 1, '99': 2, '101': 1, '102': 0, '103': 1, '104': 2, '106': 0, '107': 1, '108': 0, '109': 1, '111': 1, '112': 0, '113': 0, '115': 1, '118': 0, '141': 1, '121': 1, '123': 1, '125': 0, '126': 1, '127': 0, '128': 1, '129': 0, '130': 1, '131': 0, '132': 1, '133': 2, '135': 2, '144': 0, '145': 1, '146': 0, '147': 1, '148': 0, '149': 1, '152': 0, '153': 0, '154': 1, '156': 0, '157': 1, '158': 1, '159': 0, '160': 2, '161': 0, '163': 0, '164': 1, '165': 0, '166': 1, '167': 0, '168': 1, '169': 0, '170': 1, '171': 0, '172': 1, '173': 0, '174': 1, '175': 0, '176': 1, '177': 0, '178': 0, '179': 1, '180': 0, '181': 2, '183': 0, '184': 0, '185': 1, '186': 0, '187': 1, '188': 0, '189': 1, '190': 0, '192': 0, '193': 1, '194': 0, '195': 1, '196': 0, '197': 1, '198': 2, '199': 2, '201': 2, '202': 1, '203': 0, '204': 1, '205': 1, '206': 2, '207': 2, '208': 1, '209': 0, '210': 2, '211': 2, '212': 1, '213': 2, '18': 1, '137': 1, '42': 1, '59': 1, '138': 0, '78': 0, '139': 0, '92': 1, '140': 1, '119': 1, '142': 1, '143': 1, '214': 0, '215': 1, '191': 1}\n"
     ]
    }
   ],
   "source": [
    "chromaticNumber = nx.coloring.greedy_color(Graph, strategy=\"largest_first\")\n",
    "print(chromaticNumber)"
   ]
  },
  {
   "cell_type": "markdown",
   "id": "a7ea684a",
   "metadata": {},
   "source": [
    "# Eigenvector Centrality"
   ]
  },
  {
   "cell_type": "code",
   "execution_count": 9,
   "id": "3dbf05c0",
   "metadata": {
    "scrolled": true
   },
   "outputs": [
    {
     "data": {
      "image/png": "[encoded data removed]",
      "text/plain": [
       "<Figure size 640x480 with 1 Axes>"
      ]
     },
     "metadata": {},
     "output_type": "display_data"
    },
    {
     "data": {
      "text/plain": [
       "[('0.45', '35'),\n",
       " ('0.31', '47'),\n",
       " ('0.30', '10'),\n",
       " ('0.29', '8'),\n",
       " ('0.22', '11'),\n",
       " ('0.20', '33'),\n",
       " ('0.19', '83'),\n",
       " ('0.19', '34'),\n",
       " ('0.18', '114'),\n",
       " ('0.16', '7'),\n",
       " ('0.16', '48'),\n",
       " ('0.15', '9'),\n",
       " ('0.15', '66'),\n",
       " ('0.15', '65'),\n",
       " ('0.13', '52'),\n",
       " ('0.13', '51'),\n",
       " ('0.12', '84'),\n",
       " ('0.12', '6'),\n",
       " ('0.12', '36'),\n",
       " ('0.12', '152'),\n",
       " ('0.11', '64'),\n",
       " ('0.09', '124'),\n",
       " ('0.09', '105'),\n",
       " ('0.08', '5'),\n",
       " ('0.08', '32'),\n",
       " ('0.08', '160'),\n",
       " ('0.07', '4'),\n",
       " ('0.07', '31'),\n",
       " ('0.07', '3'),\n",
       " ('0.07', '115'),\n",
       " ('0.06', '12'),\n",
       " ('0.06', '113'),\n",
       " ('0.05', '67'),\n",
       " ('0.05', '50'),\n",
       " ('0.05', '49'),\n",
       " ('0.05', '39'),\n",
       " ('0.05', '178'),\n",
       " ('0.05', '161'),\n",
       " ('0.05', '151'),\n",
       " ('0.05', '104'),\n",
       " ('0.04', '46'),\n",
       " ('0.04', '45'),\n",
       " ('0.04', '38'),\n",
       " ('0.04', '37'),\n",
       " ('0.04', '162'),\n",
       " ('0.04', '116'),\n",
       " ('0.04', '1'),\n",
       " ('0.03', '85'),\n",
       " ('0.03', '63'),\n",
       " ('0.03', '53'),\n",
       " ('0.03', '204'),\n",
       " ('0.03', '2'),\n",
       " ('0.03', '177'),\n",
       " ('0.03', '153'),\n",
       " ('0.03', '123'),\n",
       " ('0.03', '103'),\n",
       " ('0.02', '82'),\n",
       " ('0.02', '30'),\n",
       " ('0.02', '29'),\n",
       " ('0.02', '212'),\n",
       " ('0.02', '211'),\n",
       " ('0.02', '159'),\n",
       " ('0.02', '150'),\n",
       " ('0.02', '13'),\n",
       " ('0.02', '122'),\n",
       " ('0.02', '110'),\n",
       " ('0.02', '106'),\n",
       " ('0.01', '86'),\n",
       " ('0.01', '81'),\n",
       " ('0.01', '80'),\n",
       " ('0.01', '68'),\n",
       " ('0.01', '62'),\n",
       " ('0.01', '54'),\n",
       " ('0.01', '44'),\n",
       " ('0.01', '40'),\n",
       " ('0.01', '28'),\n",
       " ('0.01', '27'),\n",
       " ('0.01', '213'),\n",
       " ('0.01', '210'),\n",
       " ('0.01', '209'),\n",
       " ('0.01', '208'),\n",
       " ('0.01', '205'),\n",
       " ('0.01', '203'),\n",
       " ('0.01', '183'),\n",
       " ('0.01', '182'),\n",
       " ('0.01', '179'),\n",
       " ('0.01', '163'),\n",
       " ('0.01', '158'),\n",
       " ('0.01', '157'),\n",
       " ('0.01', '155'),\n",
       " ('0.01', '154'),\n",
       " ('0.01', '149'),\n",
       " ('0.01', '135'),\n",
       " ('0.01', '125'),\n",
       " ('0.01', '121'),\n",
       " ('0.01', '117'),\n",
       " ('0.01', '107'),\n",
       " ('0.01', '102'),\n",
       " ('0.01', '0'),\n",
       " ('0.00', '99'),\n",
       " ('0.00', '98'),\n",
       " ('0.00', '97'),\n",
       " ('0.00', '96'),\n",
       " ('0.00', '95'),\n",
       " ('0.00', '94'),\n",
       " ('0.00', '93'),\n",
       " ('0.00', '92'),\n",
       " ('0.00', '91'),\n",
       " ('0.00', '90'),\n",
       " ('0.00', '89'),\n",
       " ('0.00', '88'),\n",
       " ('0.00', '87'),\n",
       " ('0.00', '79'),\n",
       " ('0.00', '78'),\n",
       " ('0.00', '77'),\n",
       " ('0.00', '76'),\n",
       " ('0.00', '75'),\n",
       " ('0.00', '74'),\n",
       " ('0.00', '73'),\n",
       " ('0.00', '72'),\n",
       " ('0.00', '71'),\n",
       " ('0.00', '70'),\n",
       " ('0.00', '69'),\n",
       " ('0.00', '61'),\n",
       " ('0.00', '60'),\n",
       " ('0.00', '59'),\n",
       " ('0.00', '58'),\n",
       " ('0.00', '57'),\n",
       " ('0.00', '56'),\n",
       " ('0.00', '55'),\n",
       " ('0.00', '43'),\n",
       " ('0.00', '42'),\n",
       " ('0.00', '41'),\n",
       " ('0.00', '26'),\n",
       " ('0.00', '25'),\n",
       " ('0.00', '24'),\n",
       " ('0.00', '23'),\n",
       " ('0.00', '22'),\n",
       " ('0.00', '215'),\n",
       " ('0.00', '214'),\n",
       " ('0.00', '21'),\n",
       " ('0.00', '207'),\n",
       " ('0.00', '206'),\n",
       " ('0.00', '202'),\n",
       " ('0.00', '201'),\n",
       " ('0.00', '200'),\n",
       " ('0.00', '20'),\n",
       " ('0.00', '199'),\n",
       " ('0.00', '198'),\n",
       " ('0.00', '197'),\n",
       " ('0.00', '196'),\n",
       " ('0.00', '195'),\n",
       " ('0.00', '194'),\n",
       " ('0.00', '193'),\n",
       " ('0.00', '192'),\n",
       " ('0.00', '191'),\n",
       " ('0.00', '190'),\n",
       " ('0.00', '19'),\n",
       " ('0.00', '189'),\n",
       " ('0.00', '188'),\n",
       " ('0.00', '187'),\n",
       " ('0.00', '186'),\n",
       " ('0.00', '185'),\n",
       " ('0.00', '184'),\n",
       " ('0.00', '181'),\n",
       " ('0.00', '180'),\n",
       " ('0.00', '18'),\n",
       " ('0.00', '176'),\n",
       " ('0.00', '175'),\n",
       " ('0.00', '174'),\n",
       " ('0.00', '173'),\n",
       " ('0.00', '172'),\n",
       " ('0.00', '171'),\n",
       " ('0.00', '170'),\n",
       " ('0.00', '17'),\n",
       " ('0.00', '169'),\n",
       " ('0.00', '168'),\n",
       " ('0.00', '167'),\n",
       " ('0.00', '166'),\n",
       " ('0.00', '165'),\n",
       " ('0.00', '164'),\n",
       " ('0.00', '16'),\n",
       " ('0.00', '156'),\n",
       " ('0.00', '15'),\n",
       " ('0.00', '148'),\n",
       " ('0.00', '147'),\n",
       " ('0.00', '146'),\n",
       " ('0.00', '145'),\n",
       " ('0.00', '144'),\n",
       " ('0.00', '143'),\n",
       " ('0.00', '142'),\n",
       " ('0.00', '141'),\n",
       " ('0.00', '140'),\n",
       " ('0.00', '14'),\n",
       " ('0.00', '139'),\n",
       " ('0.00', '138'),\n",
       " ('0.00', '137'),\n",
       " ('0.00', '136'),\n",
       " ('0.00', '134'),\n",
       " ('0.00', '133'),\n",
       " ('0.00', '132'),\n",
       " ('0.00', '131'),\n",
       " ('0.00', '130'),\n",
       " ('0.00', '129'),\n",
       " ('0.00', '128'),\n",
       " ('0.00', '127'),\n",
       " ('0.00', '126'),\n",
       " ('0.00', '120'),\n",
       " ('0.00', '119'),\n",
       " ('0.00', '118'),\n",
       " ('0.00', '112'),\n",
       " ('0.00', '111'),\n",
       " ('0.00', '109'),\n",
       " ('0.00', '108'),\n",
       " ('0.00', '101'),\n",
       " ('0.00', '100')]"
      ]
     },
     "execution_count": 9,
     "metadata": {},
     "output_type": "execute_result"
    }
   ],
   "source": [
    "centrality = nx.eigenvector_centrality(Graph)\n",
    "inside = [(f\"{c:0.2f}\",v) for v,c in centrality.items()]\n",
    "\n",
    "#graph centrality\n",
    "xs = [float(x) for x,y in inside]\n",
    "plt.hist(xs,bins=50)\n",
    "plt.xlim(0,0.34)\n",
    "plt.show()\n",
    "\n",
    "#display centrality scores\n",
    "sorted(inside, reverse = True)\n",
    "\n"
   ]
  },
  {
   "cell_type": "code",
   "execution_count": null,
   "id": "6e9e92a4",
   "metadata": {},
   "outputs": [],
   "source": []
  }
 ],
 "metadata": {
  "kernelspec": {
   "display_name": "Python 3 (ipykernel)",
   "language": "python",
   "name": "python3"
  },
  "language_info": {
   "codemirror_mode": {
    "name": "ipython",
    "version": 3
   },
   "file_extension": ".py",
   "mimetype": "text/x-python",
   "name": "python",
   "nbconvert_exporter": "python",
   "pygments_lexer": "ipython3",
   "version": "3.9.13"
  }
 },
 "nbformat": 4,
 "nbformat_minor": 5
}
