{
 "cells": [
  {
   "cell_type": "code",
   "execution_count": 52,
   "id": "3fcc1652",
   "metadata": {
    "scrolled": false
   },
   "outputs": [],
   "source": [
    "import networkx as nx\n",
    "import numpy.linalg\n",
    "import matplotlib.pyplot as plt\n",
    "import numpy as np\n",
    "\n",
    "Graph = nx.empty_graph()\n",
    "with open(\"Paris.csv\", \"r\") as InputFile:\n",
    "    skipHeader = True\n",
    "    for Line in InputFile.readlines():\n",
    "        if skipHeader:\n",
    "            skipHeader = False\n",
    "            continue\n",
    "        Graph.add_edge(Line.split(\",\")[0],Line.split(\",\")[1])\n",
    "        \n",
    "#nx.draw(Graph)"
   ]
  },
  {
   "cell_type": "markdown",
   "id": "cbbd57d1",
   "metadata": {},
   "source": [
    "# Calculate Eigenvalues"
   ]
  },
  {
   "cell_type": "code",
   "execution_count": 69,
   "id": "e1931b52",
   "metadata": {
    "scrolled": true
   },
   "outputs": [
    {
     "name": "stdout",
     "output_type": "stream",
     "text": [
      "Largest Eigenvalue: 1.993397042602789\n",
      "Smallest Eigenvalue: -2.7431954249006798e-15\n",
      "307\n"
     ]
    },
    {
     "data": {
      "image/png": "[encoded data removed]",
      "text/plain": [
       "<Figure size 640x480 with 1 Axes>"
      ]
     },
     "metadata": {},
     "output_type": "display_data"
    }
   ],
   "source": [
    "L = nx.normalized_laplacian_matrix(Graph)\n",
    "e = numpy.linalg.eigvals(L.A)\n",
    "\n",
    "print(\"Largest Eigenvalue:\",max(e))\n",
    "print(\"Smallest Eigenvalue:\",min(e))\n",
    "print(len(e))\n",
    "#print(e)\n",
    "\n",
    "plt.hist(e,bins=100)\n",
    "plt.xlim(0,2)\n",
    "plt.show()"
   ]
  },
  {
   "cell_type": "markdown",
   "id": "a8208e25",
   "metadata": {},
   "source": [
    "# Calculate Diameter"
   ]
  },
  {
   "cell_type": "code",
   "execution_count": 50,
   "id": "317000ac",
   "metadata": {},
   "outputs": [
    {
     "data": {
      "text/plain": [
       "304"
      ]
     },
     "execution_count": 50,
     "metadata": {},
     "output_type": "execute_result"
    }
   ],
   "source": [
    "#distinct eigenvalues\n",
    "len(np.unique(e))"
   ]
  },
  {
   "cell_type": "code",
   "execution_count": 51,
   "id": "225845dd",
   "metadata": {},
   "outputs": [
    {
     "data": {
      "text/plain": [
       "34"
      ]
     },
     "execution_count": 51,
     "metadata": {},
     "output_type": "execute_result"
    }
   ],
   "source": [
    "#diameter\n",
    "nx.diameter(Graph)"
   ]
  },
  {
   "cell_type": "markdown",
   "id": "7e6e7b96",
   "metadata": {},
   "source": [
    "# Chromatic Number"
   ]
  },
  {
   "cell_type": "code",
   "execution_count": 86,
   "id": "2b8dda0e",
   "metadata": {},
   "outputs": [
    {
     "name": "stdout",
     "output_type": "stream",
     "text": [
      "{'94': 0, '122': 0, '115': 0, '13': 0, '17': 0, '19': 0, '24': 0, '27': 0, '68': 0, '169': 0, '221': 0, '262': 0, '1': 0, '5': 0, '16': 1, '23': 1, '30': 1, '32': 0, '49': 0, '54': 0, '57': 0, '59': 1, '61': 1, '62': 2, '85': 1, '87': 0, '89': 0, '93': 0, '97': 0, '99': 0, '107': 0, '124': 1, '142': 0, '145': 0, '147': 2, '158': 1, '159': 2, '160': 0, '172': 0, '183': 0, '187': 0, '189': 0, '208': 2, '0': 1, '4': 1, '20': 1, '63': 1, '75': 1, '77': 0, '248': 1, '95': 1, '103': 0, '116': 2, '134': 0, '144': 1, '213': 0, '220': 1, '231': 0, '287': 0, '2': 1, '3': 0, '6': 1, '7': 0, '9': 0, '10': 1, '11': 0, '12': 1, '14': 1, '15': 0, '18': 1, '21': 0, '22': 2, '25': 1, '26': 2, '28': 1, '29': 0, '31': 2, '33': 1, '34': 0, '35': 1, '36': 0, '37': 1, '38': 0, '39': 1, '40': 0, '41': 1, '42': 0, '43': 1, '45': 0, '46': 1, '47': 0, '48': 1, '50': 1, '51': 0, '52': 1, '53': 2, '55': 1, '56': 2, '58': 2, '60': 0, '64': 0, '65': 1, '66': 0, '67': 1, '69': 1, '70': 0, '71': 1, '72': 0, '73': 1, '76': 1, '78': 1, '79': 0, '80': 2, '81': 1, '82': 0, '83': 1, '84': 2, '86': 2, '88': 1, '90': 1, '91': 0, '92': 1, '96': 2, '98': 1, '100': 1, '101': 2, '102': 1, '105': 0, '106': 1, '108': 1, '109': 0, '110': 1, '111': 0, '112': 1, '113': 0, '114': 1, '117': 1, '118': 0, '119': 1, '120': 1, '121': 2, '123': 2, '125': 0, '126': 1, '127': 0, '128': 1, '129': 0, '131': 0, '132': 1, '133': 2, '135': 1, '136': 0, '137': 2, '139': 0, '140': 1, '141': 2, '143': 2, '146': 1, '148': 0, '149': 2, '150': 1, '151': 0, '152': 1, '153': 0, '154': 1, '155': 0, '156': 1, '157': 1, '161': 1, '162': 0, '164': 0, '165': 1, '166': 0, '167': 1, '168': 2, '170': 1, '171': 1, '173': 1, '174': 2, '175': 1, '176': 0, '177': 1, '179': 1, '180': 1, '181': 0, '182': 1, '184': 1, '185': 1, '186': 2, '188': 1, '190': 1, '191': 1, '192': 0, '193': 1, '194': 0, '195': 1, '196': 2, '198': 0, '199': 1, '200': 0, '201': 1, '202': 0, '203': 1, '204': 1, '205': 1, '206': 0, '207': 1, '209': 1, '210': 1, '211': 0, '212': 1, '214': 1, '215': 1, '216': 2, '218': 1, '219': 1, '222': 2, '223': 0, '224': 1, '225': 1, '226': 2, '227': 1, '228': 0, '229': 1, '230': 1, '232': 1, '233': 0, '234': 1, '235': 0, '236': 1, '238': 0, '239': 1, '240': 0, '241': 1, '242': 0, '243': 1, '244': 1, '245': 0, '246': 1, '247': 2, '249': 0, '250': 1, '251': 1, '252': 2, '253': 1, '254': 0, '255': 1, '256': 1, '257': 0, '258': 2, '259': 1, '260': 0, '261': 1, '263': 1, '264': 0, '265': 1, '266': 1, '267': 1, '268': 2, '270': 0, '271': 1, '272': 0, '273': 1, '274': 0, '275': 1, '276': 2, '277': 1, '278': 0, '279': 1, '280': 1, '281': 1, '282': 2, '283': 1, '284': 0, '285': 1, '286': 1, '288': 1, '289': 0, '290': 1, '291': 0, '292': 1, '293': 0, '294': 1, '8': 1, '295': 0, '44': 1, '296': 0, '74': 0, '297': 1, '104': 1, '298': 1, '130': 1, '138': 1, '299': 1, '300': 1, '163': 1, '301': 0, '178': 0, '197': 1, '302': 0, '217': 0, '303': 1, '304': 0, '237': 1, '269': 1, '305': 1, '306': 0}\n"
     ]
    }
   ],
   "source": [
    "chromaticNumber = nx.coloring.greedy_color(Graph, strategy=\"largest_first\")\n",
    "print(chromaticNumber)"
   ]
  },
  {
   "cell_type": "markdown",
   "id": "a7ea684a",
   "metadata": {},
   "source": [
    "# Eigenvector Centrality"
   ]
  },
  {
   "cell_type": "code",
   "execution_count": 90,
   "id": "3dbf05c0",
   "metadata": {
    "scrolled": true
   },
   "outputs": [
    {
     "data": {
      "image/png": "[encoded data removed]",
      "text/plain": [
       "<Figure size 640x480 with 1 Axes>"
      ]
     },
     "metadata": {},
     "output_type": "display_data"
    },
    {
     "data": {
      "text/plain": [
       "[('0.34', '19'),\n",
       " ('0.29', '115'),\n",
       " ('0.28', '94'),\n",
       " ('0.28', '158'),\n",
       " ('0.27', '61'),\n",
       " ('0.25', '17'),\n",
       " ('0.24', '62'),\n",
       " ('0.23', '116'),\n",
       " ('0.18', '59'),\n",
       " ('0.18', '172'),\n",
       " ('0.18', '147'),\n",
       " ('0.17', '20'),\n",
       " ('0.16', '18'),\n",
       " ('0.14', '16'),\n",
       " ('0.13', '60'),\n",
       " ('0.13', '280'),\n",
       " ('0.13', '173'),\n",
       " ('0.13', '159'),\n",
       " ('0.12', '171'),\n",
       " ('0.10', '95'),\n",
       " ('0.10', '205'),\n",
       " ('0.09', '57'),\n",
       " ('0.09', '281'),\n",
       " ('0.09', '225'),\n",
       " ('0.09', '224'),\n",
       " ('0.09', '204'),\n",
       " ('0.09', '157'),\n",
       " ('0.09', '146'),\n",
       " ('0.09', '114'),\n",
       " ('0.08', '117'),\n",
       " ('0.07', '58'),\n",
       " ('0.07', '279'),\n",
       " ('0.07', '27'),\n",
       " ('0.05', '30'),\n",
       " ('0.05', '21'),\n",
       " ('0.05', '174'),\n",
       " ('0.05', '160'),\n",
       " ('0.04', '183'),\n",
       " ('0.04', '15'),\n",
       " ('0.04', '148'),\n",
       " ('0.04', '145'),\n",
       " ('0.03', '96'),\n",
       " ('0.03', '68'),\n",
       " ('0.03', '56'),\n",
       " ('0.03', '282'),\n",
       " ('0.03', '28'),\n",
       " ('0.03', '226'),\n",
       " ('0.03', '223'),\n",
       " ('0.03', '206'),\n",
       " ('0.03', '170'),\n",
       " ('0.03', '142'),\n",
       " ('0.03', '113'),\n",
       " ('0.02', '97'),\n",
       " ('0.02', '31'),\n",
       " ('0.02', '29'),\n",
       " ('0.02', '278'),\n",
       " ('0.02', '266'),\n",
       " ('0.02', '26'),\n",
       " ('0.02', '247'),\n",
       " ('0.02', '246'),\n",
       " ('0.02', '24'),\n",
       " ('0.02', '23'),\n",
       " ('0.02', '22'),\n",
       " ('0.02', '208'),\n",
       " ('0.02', '207'),\n",
       " ('0.02', '184'),\n",
       " ('0.02', '144'),\n",
       " ('0.02', '118'),\n",
       " ('0.01', '98'),\n",
       " ('0.01', '93'),\n",
       " ('0.01', '89'),\n",
       " ('0.01', '85'),\n",
       " ('0.01', '69'),\n",
       " ('0.01', '67'),\n",
       " ('0.01', '63'),\n",
       " ('0.01', '55'),\n",
       " ('0.01', '32'),\n",
       " ('0.01', '277'),\n",
       " ('0.01', '268'),\n",
       " ('0.01', '267'),\n",
       " ('0.01', '265'),\n",
       " ('0.01', '25'),\n",
       " ('0.01', '248'),\n",
       " ('0.01', '245'),\n",
       " ('0.01', '244'),\n",
       " ('0.01', '222'),\n",
       " ('0.01', '221'),\n",
       " ('0.01', '209'),\n",
       " ('0.01', '203'),\n",
       " ('0.01', '196'),\n",
       " ('0.01', '185'),\n",
       " ('0.01', '182'),\n",
       " ('0.01', '175'),\n",
       " ('0.01', '169'),\n",
       " ('0.01', '161'),\n",
       " ('0.01', '156'),\n",
       " ('0.01', '149'),\n",
       " ('0.01', '143'),\n",
       " ('0.01', '141'),\n",
       " ('0.01', '14'),\n",
       " ('0.01', '13'),\n",
       " ('0.01', '122'),\n",
       " ('0.01', '119'),\n",
       " ('0.01', '112'),\n",
       " ('0.00', '99'),\n",
       " ('0.00', '92'),\n",
       " ('0.00', '91'),\n",
       " ('0.00', '90'),\n",
       " ('0.00', '9'),\n",
       " ('0.00', '88'),\n",
       " ('0.00', '87'),\n",
       " ('0.00', '86'),\n",
       " ('0.00', '84'),\n",
       " ('0.00', '83'),\n",
       " ('0.00', '82'),\n",
       " ('0.00', '81'),\n",
       " ('0.00', '80'),\n",
       " ('0.00', '8'),\n",
       " ('0.00', '79'),\n",
       " ('0.00', '78'),\n",
       " ('0.00', '77'),\n",
       " ('0.00', '76'),\n",
       " ('0.00', '75'),\n",
       " ('0.00', '74'),\n",
       " ('0.00', '73'),\n",
       " ('0.00', '72'),\n",
       " ('0.00', '71'),\n",
       " ('0.00', '70'),\n",
       " ('0.00', '7'),\n",
       " ('0.00', '66'),\n",
       " ('0.00', '65'),\n",
       " ('0.00', '64'),\n",
       " ('0.00', '6'),\n",
       " ('0.00', '54'),\n",
       " ('0.00', '53'),\n",
       " ('0.00', '52'),\n",
       " ('0.00', '51'),\n",
       " ('0.00', '50'),\n",
       " ('0.00', '5'),\n",
       " ('0.00', '49'),\n",
       " ('0.00', '48'),\n",
       " ('0.00', '47'),\n",
       " ('0.00', '46'),\n",
       " ('0.00', '45'),\n",
       " ('0.00', '44'),\n",
       " ('0.00', '43'),\n",
       " ('0.00', '42'),\n",
       " ('0.00', '41'),\n",
       " ('0.00', '40'),\n",
       " ('0.00', '4'),\n",
       " ('0.00', '39'),\n",
       " ('0.00', '38'),\n",
       " ('0.00', '37'),\n",
       " ('0.00', '36'),\n",
       " ('0.00', '35'),\n",
       " ('0.00', '34'),\n",
       " ('0.00', '33'),\n",
       " ('0.00', '306'),\n",
       " ('0.00', '305'),\n",
       " ('0.00', '304'),\n",
       " ('0.00', '303'),\n",
       " ('0.00', '302'),\n",
       " ('0.00', '301'),\n",
       " ('0.00', '300'),\n",
       " ('0.00', '3'),\n",
       " ('0.00', '299'),\n",
       " ('0.00', '298'),\n",
       " ('0.00', '297'),\n",
       " ('0.00', '296'),\n",
       " ('0.00', '295'),\n",
       " ('0.00', '294'),\n",
       " ('0.00', '293'),\n",
       " ('0.00', '292'),\n",
       " ('0.00', '291'),\n",
       " ('0.00', '290'),\n",
       " ('0.00', '289'),\n",
       " ('0.00', '288'),\n",
       " ('0.00', '287'),\n",
       " ('0.00', '286'),\n",
       " ('0.00', '285'),\n",
       " ('0.00', '284'),\n",
       " ('0.00', '283'),\n",
       " ('0.00', '276'),\n",
       " ('0.00', '275'),\n",
       " ('0.00', '274'),\n",
       " ('0.00', '273'),\n",
       " ('0.00', '272'),\n",
       " ('0.00', '271'),\n",
       " ('0.00', '270'),\n",
       " ('0.00', '269'),\n",
       " ('0.00', '264'),\n",
       " ('0.00', '263'),\n",
       " ('0.00', '262'),\n",
       " ('0.00', '261'),\n",
       " ('0.00', '260'),\n",
       " ('0.00', '259'),\n",
       " ('0.00', '258'),\n",
       " ('0.00', '257'),\n",
       " ('0.00', '256'),\n",
       " ('0.00', '255'),\n",
       " ('0.00', '254'),\n",
       " ('0.00', '253'),\n",
       " ('0.00', '252'),\n",
       " ('0.00', '251'),\n",
       " ('0.00', '250'),\n",
       " ('0.00', '249'),\n",
       " ('0.00', '243'),\n",
       " ('0.00', '242'),\n",
       " ('0.00', '241'),\n",
       " ('0.00', '240'),\n",
       " ('0.00', '239'),\n",
       " ('0.00', '238'),\n",
       " ('0.00', '237'),\n",
       " ('0.00', '236'),\n",
       " ('0.00', '235'),\n",
       " ('0.00', '234'),\n",
       " ('0.00', '233'),\n",
       " ('0.00', '232'),\n",
       " ('0.00', '231'),\n",
       " ('0.00', '230'),\n",
       " ('0.00', '229'),\n",
       " ('0.00', '228'),\n",
       " ('0.00', '227'),\n",
       " ('0.00', '220'),\n",
       " ('0.00', '219'),\n",
       " ('0.00', '218'),\n",
       " ('0.00', '217'),\n",
       " ('0.00', '216'),\n",
       " ('0.00', '215'),\n",
       " ('0.00', '214'),\n",
       " ('0.00', '213'),\n",
       " ('0.00', '212'),\n",
       " ('0.00', '211'),\n",
       " ('0.00', '210'),\n",
       " ('0.00', '202'),\n",
       " ('0.00', '201'),\n",
       " ('0.00', '200'),\n",
       " ('0.00', '2'),\n",
       " ('0.00', '199'),\n",
       " ('0.00', '198'),\n",
       " ('0.00', '197'),\n",
       " ('0.00', '195'),\n",
       " ('0.00', '194'),\n",
       " ('0.00', '193'),\n",
       " ('0.00', '192'),\n",
       " ('0.00', '191'),\n",
       " ('0.00', '190'),\n",
       " ('0.00', '189'),\n",
       " ('0.00', '188'),\n",
       " ('0.00', '187'),\n",
       " ('0.00', '186'),\n",
       " ('0.00', '181'),\n",
       " ('0.00', '180'),\n",
       " ('0.00', '179'),\n",
       " ('0.00', '178'),\n",
       " ('0.00', '177'),\n",
       " ('0.00', '176'),\n",
       " ('0.00', '168'),\n",
       " ('0.00', '167'),\n",
       " ('0.00', '166'),\n",
       " ('0.00', '165'),\n",
       " ('0.00', '164'),\n",
       " ('0.00', '163'),\n",
       " ('0.00', '162'),\n",
       " ('0.00', '155'),\n",
       " ('0.00', '154'),\n",
       " ('0.00', '153'),\n",
       " ('0.00', '152'),\n",
       " ('0.00', '151'),\n",
       " ('0.00', '150'),\n",
       " ('0.00', '140'),\n",
       " ('0.00', '139'),\n",
       " ('0.00', '138'),\n",
       " ('0.00', '137'),\n",
       " ('0.00', '136'),\n",
       " ('0.00', '135'),\n",
       " ('0.00', '134'),\n",
       " ('0.00', '133'),\n",
       " ('0.00', '132'),\n",
       " ('0.00', '131'),\n",
       " ('0.00', '130'),\n",
       " ('0.00', '129'),\n",
       " ('0.00', '128'),\n",
       " ('0.00', '127'),\n",
       " ('0.00', '126'),\n",
       " ('0.00', '125'),\n",
       " ('0.00', '124'),\n",
       " ('0.00', '123'),\n",
       " ('0.00', '121'),\n",
       " ('0.00', '120'),\n",
       " ('0.00', '12'),\n",
       " ('0.00', '111'),\n",
       " ('0.00', '110'),\n",
       " ('0.00', '11'),\n",
       " ('0.00', '109'),\n",
       " ('0.00', '108'),\n",
       " ('0.00', '107'),\n",
       " ('0.00', '106'),\n",
       " ('0.00', '105'),\n",
       " ('0.00', '104'),\n",
       " ('0.00', '103'),\n",
       " ('0.00', '102'),\n",
       " ('0.00', '101'),\n",
       " ('0.00', '100'),\n",
       " ('0.00', '10'),\n",
       " ('0.00', '1'),\n",
       " ('0.00', '0')]"
      ]
     },
     "execution_count": 90,
     "metadata": {},
     "output_type": "execute_result"
    }
   ],
   "source": [
    "centrality = nx.eigenvector_centrality(Graph)\n",
    "inside = [(f\"{c:0.2f}\",v) for v,c in centrality.items()]\n",
    "\n",
    "#graph centrality\n",
    "xs = [float(x) for x,y in inside]\n",
    "plt.hist(xs,bins=50)\n",
    "plt.xlim(0,0.34)\n",
    "plt.show()\n",
    "\n",
    "#display centrality scores\n",
    "sorted(inside, reverse = True)\n",
    "\n"
   ]
  },
  {
   "cell_type": "code",
   "execution_count": null,
   "id": "6e9e92a4",
   "metadata": {},
   "outputs": [],
   "source": []
  }
 ],
 "metadata": {
  "kernelspec": {
   "display_name": "Python 3 (ipykernel)",
   "language": "python",
   "name": "python3"
  },
  "language_info": {
   "codemirror_mode": {
    "name": "ipython",
    "version": 3
   },
   "file_extension": ".py",
   "mimetype": "text/x-python",
   "name": "python",
   "nbconvert_exporter": "python",
   "pygments_lexer": "ipython3",
   "version": "3.9.13"
  }
 },
 "nbformat": 4,
 "nbformat_minor": 5
}
